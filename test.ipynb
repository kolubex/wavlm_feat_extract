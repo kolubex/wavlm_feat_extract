{
 "cells": [
  {
   "cell_type": "code",
   "execution_count": 1,
   "metadata": {},
   "outputs": [],
   "source": [
    "import torch\n",
    "from WavLM import WavLM, WavLMConfig\n",
    "import torchaudio\n",
    "import numpy as np\n",
    "import torch.nn as nn\n",
    "import torch.nn.functional as F"
   ]
  },
  {
   "cell_type": "code",
   "execution_count": 4,
   "metadata": {},
   "outputs": [],
   "source": [
    "class Net(torch.nn.Module):\n",
    "    def __init__(self, input_dim, output_dim,dropout=0.2):\n",
    "        super(Net, self).__init__()\n",
    "        padding_1 = (4 * (4900 - 1) - 4900 + 7) // 2\n",
    "        padding_2 = (4 * (input_dim - 1) - input_dim + 7) // 2\n",
    "        padding_3 = ((4 * (input_dim - 1) - input_dim + 7) //2)\n",
    "        padding_4 = ((4 * (input_dim - 1) - input_dim + 7) //2)\n",
    "        padding_5 = ((4 * (input_dim - 1) - input_dim + 7) //2) // 2\n",
    "        self.model_seq = torch.nn.Sequential(\n",
    "            nn.Conv1d(input_dim, 512, kernel_size=7, stride=4,padding=padding_1),\n",
    "            nn.MaxPool1d(kernel_size=3, stride=1),\n",
    "            nn.Conv1d(512, 256, kernel_size=7, stride=4,padding=padding_2),\n",
    "            nn.MaxPool1d(kernel_size=3, stride=1),\n",
    "            # input dimension is (batch_size, input_dim, no.of frames)\n",
    "            nn.Conv1d(256, 128, kernel_size=7, stride=4,padding=padding_3),\n",
    "            nn.MaxPool1d(kernel_size=3, stride=1),\n",
    "            nn.BatchNorm1d(128),\n",
    "            nn.GELU(),\n",
    "            nn.Dropout(p=dropout),\n",
    "            # now make a 1D convolutional layer with suitable padding such that it matches the input dimensions\n",
    "            nn.Conv1d(128, 64, kernel_size=7, stride=4,padding=padding_4),\n",
    "            nn.AvgPool1d(kernel_size=3, stride=1),\n",
    "            nn.BatchNorm1d(64),\n",
    "            nn.GELU(),\n",
    "            nn.Dropout(p=dropout),\n",
    "            nn.Conv1d(64, 32, kernel_size=7, stride=4,padding=padding_5),\n",
    "            nn.AvgPool1d(kernel_size=3, stride=1),\n",
    "            nn.BatchNorm1d(32),\n",
    "            nn.GELU(),\n",
    "            nn.Dropout(p=dropout),\n",
    "            nn.Conv1d(32, 16, kernel_size=7, stride=4),\n",
    "            nn.AvgPool1d(kernel_size=3, stride=1),\n",
    "            nn.BatchNorm1d(16),\n",
    "            nn.GELU(),\n",
    "            nn.Dropout(p=dropout),\n",
    "        )\n",
    "        self.mlp = nn.Sequential(\n",
    "            nn.Linear(1024, 512),\n",
    "            nn.GELU(),\n",
    "            nn.Dropout(p=dropout),\n",
    "            nn.Linear(512, 64),\n",
    "            nn.GELU(),\n",
    "            nn.Dropout(p=dropout),\n",
    "            nn.Linear(64, output_dim),\n",
    "            # now as I am doing multi-class classification, I will use sigmoid activation for each output neuron\n",
    "            nn.Sigmoid()\n",
    "        )\n",
    "\n",
    "    def forward(self, x):\n",
    "        x = self.model_seq(x)\n",
    "        flatten = nn.Flatten()\n",
    "        x = flatten(x)\n",
    "        linear1 = nn.Linear(x.size(2)*x.size(1), 1024).to('cuda')\n",
    "        x = linear1(x)\n",
    "        x = self.mlp(x)\n",
    "        return x\n"
   ]
  },
  {
   "cell_type": "code",
   "execution_count": 2,
   "metadata": {},
   "outputs": [
    {
     "name": "stdout",
     "output_type": "stream",
     "text": [
      "torch.Size([1, 768, 2999])\n",
      "torch.Size([1, 768, 2999])\n"
     ]
    }
   ],
   "source": [
    "\n",
    "def get_features_wavlm(wav_path, model, cfg):\n",
    "    # load the wav file\n",
    "    wav_input_16khz, sr = torchaudio.load(wav_path)\n",
    "    wav_input_16khz = wav_input_16khz.to('cuda')\n",
    "    if cfg.normalize:\n",
    "        wav_input_16khz = torch.nn.functional.layer_norm(wav_input_16khz , wav_input_16khz.shape)\n",
    "    rep, layer_results = model.extract_features(wav_input_16khz, output_layer=model.cfg.encoder_layers, ret_layer_results=True)[0]\n",
    "    layer_reps = [x.transpose(0, 1) for x, _ in layer_results]\n",
    "    # do average of the tensors in layer_reps and give one result tensor after averaging\n",
    "    rep = torch.mean(torch.stack(layer_reps), dim=0)\n",
    "    rep = rep.transpose(1,2)\n",
    "    print(rep.shape)\n",
    "    return rep\n",
    "\n",
    "def load_model_wavlm(wavlm_path):\n",
    "    # load the pre-trained checkpoints\n",
    "    checkpoint = torch.load(wavlm_path)\n",
    "    cfg = WavLMConfig(checkpoint['cfg'])\n",
    "    model = WavLM(cfg)\n",
    "    model.load_state_dict(checkpoint['model'])\n",
    "    model.eval()\n",
    "    model = model.to('cuda')\n",
    "    return model, cfg\n",
    "\n",
    "def store_features_wavlm(wav_path, model, cfg, output_path):\n",
    "    rep = get_features_wavlm(wav_path, model, cfg)\n",
    "    rep = rep.cpu()\n",
    "    print(rep.shape)\n",
    "    np.save(output_path, rep.detach().numpy())\n",
    "\n",
    "def main():\n",
    "    wavlm_path = './wavlm_models/wavlm_base_plus.pt'\n",
    "    wav_path = 'test1_60.wav'\n",
    "    output_path = 'test.npy'\n",
    "    model, cfg = load_model_wavlm(wavlm_path)\n",
    "    store_features_wavlm(wav_path, model, cfg, output_path)\n",
    "\n",
    "if __name__ == '__main__':\n",
    "    main()"
   ]
  },
  {
   "cell_type": "code",
   "execution_count": 6,
   "metadata": {},
   "outputs": [
    {
     "name": "stdout",
     "output_type": "stream",
     "text": [
      "torch.Size([1, 768, 749])\n",
      "torch.Size([1, 768, 4900])\n"
     ]
    },
    {
     "ename": "IndexError",
     "evalue": "Dimension out of range (expected to be in range of [-2, 1], but got 2)",
     "output_type": "error",
     "traceback": [
      "\u001b[0;31m---------------------------------------------------------------------------\u001b[0m",
      "\u001b[0;31mIndexError\u001b[0m                                Traceback (most recent call last)",
      "Cell \u001b[0;32mIn[6], line 14\u001b[0m\n\u001b[1;32m     12\u001b[0m \u001b[39mprint\u001b[39m(padded_test_features\u001b[39m.\u001b[39mshape)\n\u001b[1;32m     13\u001b[0m \u001b[39m# pad the test_features such that it gets the shape (batch_size, 768,4900) where the input is of shape (batch_size, 768, unknown)\u001b[39;00m\n\u001b[0;32m---> 14\u001b[0m rep \u001b[39m=\u001b[39m finetuning_model(test_features)\n\u001b[1;32m     15\u001b[0m \u001b[39mprint\u001b[39m(rep\u001b[39m.\u001b[39mshape)\n\u001b[1;32m     16\u001b[0m \u001b[39mprint\u001b[39m(rep)\n",
      "File \u001b[0;32m~/.envs/wavlm/lib/python3.10/site-packages/torch/nn/modules/module.py:1501\u001b[0m, in \u001b[0;36mModule._call_impl\u001b[0;34m(self, *args, **kwargs)\u001b[0m\n\u001b[1;32m   1496\u001b[0m \u001b[39m# If we don't have any hooks, we want to skip the rest of the logic in\u001b[39;00m\n\u001b[1;32m   1497\u001b[0m \u001b[39m# this function, and just call forward.\u001b[39;00m\n\u001b[1;32m   1498\u001b[0m \u001b[39mif\u001b[39;00m \u001b[39mnot\u001b[39;00m (\u001b[39mself\u001b[39m\u001b[39m.\u001b[39m_backward_hooks \u001b[39mor\u001b[39;00m \u001b[39mself\u001b[39m\u001b[39m.\u001b[39m_backward_pre_hooks \u001b[39mor\u001b[39;00m \u001b[39mself\u001b[39m\u001b[39m.\u001b[39m_forward_hooks \u001b[39mor\u001b[39;00m \u001b[39mself\u001b[39m\u001b[39m.\u001b[39m_forward_pre_hooks\n\u001b[1;32m   1499\u001b[0m         \u001b[39mor\u001b[39;00m _global_backward_pre_hooks \u001b[39mor\u001b[39;00m _global_backward_hooks\n\u001b[1;32m   1500\u001b[0m         \u001b[39mor\u001b[39;00m _global_forward_hooks \u001b[39mor\u001b[39;00m _global_forward_pre_hooks):\n\u001b[0;32m-> 1501\u001b[0m     \u001b[39mreturn\u001b[39;00m forward_call(\u001b[39m*\u001b[39;49margs, \u001b[39m*\u001b[39;49m\u001b[39m*\u001b[39;49mkwargs)\n\u001b[1;32m   1502\u001b[0m \u001b[39m# Do not call functions when jit is used\u001b[39;00m\n\u001b[1;32m   1503\u001b[0m full_backward_hooks, non_full_backward_hooks \u001b[39m=\u001b[39m [], []\n",
      "Cell \u001b[0;32mIn[4], line 53\u001b[0m, in \u001b[0;36mNet.forward\u001b[0;34m(self, x)\u001b[0m\n\u001b[1;32m     51\u001b[0m flatten \u001b[39m=\u001b[39m nn\u001b[39m.\u001b[39mFlatten()\n\u001b[1;32m     52\u001b[0m x \u001b[39m=\u001b[39m flatten(x)\n\u001b[0;32m---> 53\u001b[0m linear1 \u001b[39m=\u001b[39m nn\u001b[39m.\u001b[39mLinear(x\u001b[39m.\u001b[39;49msize(\u001b[39m2\u001b[39;49m)\u001b[39m*\u001b[39mx\u001b[39m.\u001b[39msize(\u001b[39m1\u001b[39m), \u001b[39m1024\u001b[39m)\u001b[39m.\u001b[39mto(\u001b[39m'\u001b[39m\u001b[39mcuda\u001b[39m\u001b[39m'\u001b[39m)\n\u001b[1;32m     54\u001b[0m x \u001b[39m=\u001b[39m linear1(x)\n\u001b[1;32m     55\u001b[0m x \u001b[39m=\u001b[39m \u001b[39mself\u001b[39m\u001b[39m.\u001b[39mmlp(x)\n",
      "\u001b[0;31mIndexError\u001b[0m: Dimension out of range (expected to be in range of [-2, 1], but got 2)"
     ]
    }
   ],
   "source": [
    "finetuning_model = Net(768,10,0.2).to('cuda')\n",
    "# load the features in the test.npy file\n",
    "test_features = np.load('/ssd_scratch/cvit/kolubex/temp_videos1/separated_audios/mdx_extra/1/music.npy')\n",
    "# convert them to tensors\n",
    "required_shape = (1, 768, 4900)\n",
    "\n",
    "# Calculate the padding size for the third dimension\n",
    "test_features = torch.from_numpy(test_features).to('cuda')\n",
    "print(test_features.shape)\n",
    "padding_size = required_shape[2] - test_features.shape[2]\n",
    "padded_test_features = torch.nn.functional.pad(test_features, (0, padding_size))\n",
    "print(padded_test_features.shape)\n",
    "# pad the test_features such that it gets the shape (batch_size, 768,4900) where the input is of shape (batch_size, 768, unknown)\n",
    "rep = finetuning_model(test_features)\n",
    "print(rep.shape)\n",
    "print(rep)\n",
    "\n"
   ]
  },
  {
   "cell_type": "code",
   "execution_count": 3,
   "metadata": {},
   "outputs": [
    {
     "name": "stdout",
     "output_type": "stream",
     "text": [
      "218.73\n",
      "Duration of video: 218.73 seconds\n"
     ]
    }
   ],
   "source": [
    "import subprocess\n",
    "def get_video_duration(video_path):\n",
    "    command = [\"ffprobe\", \"-v\", \"error\", \"-show_entries\", \"format=duration\", \"-of\", \"default=noprint_wrappers=1:nokey=1\", video_path]\n",
    "    result = subprocess.run(command, capture_output=True, text=True)\n",
    "    duration = float(result.stdout.strip())\n",
    "    print(duration)\n",
    "    return duration\n",
    "video_path = \"./scene-001.ss-0001.es-0006.mp4\"\n",
    "duration = get_video_duration(video_path)\n",
    "print(f\"Duration of video: {duration} seconds\")"
   ]
  }
 ],
 "metadata": {
  "kernelspec": {
   "display_name": "wavlm",
   "language": "python",
   "name": "python3"
  },
  "language_info": {
   "codemirror_mode": {
    "name": "ipython",
    "version": 3
   },
   "file_extension": ".py",
   "mimetype": "text/x-python",
   "name": "python",
   "nbconvert_exporter": "python",
   "pygments_lexer": "ipython3",
   "version": "3.10.12"
  },
  "orig_nbformat": 4
 },
 "nbformat": 4,
 "nbformat_minor": 2
}
